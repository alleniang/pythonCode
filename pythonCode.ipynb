{
 "cells": [
  {
   "cell_type": "markdown",
   "id": "dad0ebc7",
   "metadata": {},
   "source": [
    "# Question 1"
   ]
  },
  {
   "cell_type": "code",
   "execution_count": 1,
   "id": "e799da84",
   "metadata": {},
   "outputs": [
    {
     "name": "stdout",
     "output_type": "stream",
     "text": [
      "-10\n",
      "-9\n",
      "-8\n",
      "-7\n",
      "-6\n",
      "-5\n",
      "-4\n",
      "-3\n",
      "-2\n",
      "-1\n"
     ]
    }
   ],
   "source": [
    "for i in range(-10, 0):\n",
    "    print(i)"
   ]
  },
  {
   "cell_type": "markdown",
   "id": "0da3aff5",
   "metadata": {},
   "source": [
    "# Question 2"
   ]
  },
  {
   "cell_type": "code",
   "execution_count": 2,
   "id": "458d0740",
   "metadata": {},
   "outputs": [
    {
     "name": "stdout",
     "output_type": "stream",
     "text": [
      "Saisir le nombre: 75869\n",
      "Le nombre de chiffres est:  5\n"
     ]
    }
   ],
   "source": [
    "n = int(input(\"Saisir le nombre: \"))\n",
    "print(\"Le nombre de chiffres est: \",len(str(n)))"
   ]
  },
  {
   "cell_type": "markdown",
   "id": "7fd11e81",
   "metadata": {},
   "source": [
    "# Question 3"
   ]
  },
  {
   "cell_type": "code",
   "execution_count": 3,
   "id": "0500c5b5",
   "metadata": {},
   "outputs": [
    {
     "data": {
      "text/plain": [
       "8"
      ]
     },
     "execution_count": 3,
     "metadata": {},
     "output_type": "execute_result"
    }
   ],
   "source": [
    "def cube(n):\n",
    "    return n**3\n",
    "\n",
    "cube(2)"
   ]
  },
  {
   "cell_type": "markdown",
   "id": "61123c94",
   "metadata": {},
   "source": [
    "# Question 4"
   ]
  },
  {
   "cell_type": "code",
   "execution_count": 6,
   "id": "0bca42c1",
   "metadata": {},
   "outputs": [
    {
     "name": "stdout",
     "output_type": "stream",
     "text": [
      "89\n",
      "390\n"
     ]
    }
   ],
   "source": [
    "def prod_ou_somme(a,b):\n",
    "    produit = a*b\n",
    "    somme = a+b\n",
    "    return somme if produit>1000 else produit\n",
    "\n",
    "print(prod_ou_somme(24,65))\n",
    "print(prod_ou_somme(13,30))"
   ]
  },
  {
   "cell_type": "markdown",
   "id": "a16287f0",
   "metadata": {},
   "source": [
    "# Question 5"
   ]
  },
  {
   "cell_type": "code",
   "execution_count": 7,
   "id": "5c56c28b",
   "metadata": {},
   "outputs": [
    {
     "name": "stdout",
     "output_type": "stream",
     "text": [
      "True\n",
      "False\n"
     ]
    }
   ],
   "source": [
    "def verif(liste):\n",
    "    return liste[0]==liste[-1]\n",
    "\n",
    "a = [2,4,23,9,4,2]\n",
    "b = [3,7,13,9,2,5]\n",
    "\n",
    "print(verif(a))\n",
    "print(verif(b))"
   ]
  },
  {
   "cell_type": "markdown",
   "id": "83b47f9d",
   "metadata": {},
   "source": [
    "# Question 6"
   ]
  },
  {
   "cell_type": "code",
   "execution_count": 15,
   "id": "6a5dec19",
   "metadata": {},
   "outputs": [
    {
     "data": {
      "text/plain": [
       "[23, 11, 17, 24, 36, 12]"
      ]
     },
     "execution_count": 15,
     "metadata": {},
     "output_type": "execute_result"
    }
   ],
   "source": [
    "def new_list(a,b):\n",
    "    c = []\n",
    "    for i in range(len(a)):\n",
    "        if a[i]%2==1:\n",
    "            c.append(a[i])\n",
    "    for i in range(len(b)):\n",
    "        if b[i]%2==0:\n",
    "            c.append(b[i])\n",
    "    return c\n",
    "\n",
    "liste1 = [10, 20, 23, 11, 17]\n",
    "liste2 = [13, 43, 24, 36, 12]\n",
    "new_list(liste1, liste2)"
   ]
  },
  {
   "cell_type": "markdown",
   "id": "a2ab531e",
   "metadata": {},
   "source": [
    "# Question 7"
   ]
  },
  {
   "cell_type": "code",
   "execution_count": 16,
   "id": "fd7aad31",
   "metadata": {},
   "outputs": [
    {
     "data": {
      "text/plain": [
       "{11: 2, 45: 3, 8: 1, 23: 2, 89: 1}"
      ]
     },
     "execution_count": 16,
     "metadata": {},
     "output_type": "execute_result"
    }
   ],
   "source": [
    "def occurrence(liste):\n",
    "    dictionnaire = {}\n",
    "    for i in range(len(liste)):\n",
    "        dictionnaire[liste[i]]=liste.count(liste[i])\n",
    "    return dictionnaire\n",
    "\n",
    "liste = [11, 45, 8, 11, 23, 45, 23, 45, 89 ]\n",
    "occurrence(liste)"
   ]
  },
  {
   "cell_type": "markdown",
   "id": "ca841861",
   "metadata": {},
   "source": [
    "# Question 8"
   ]
  },
  {
   "cell_type": "code",
   "execution_count": 17,
   "id": "8d436039",
   "metadata": {},
   "outputs": [
    {
     "name": "stdout",
     "output_type": "stream",
     "text": [
      "L'intersection est: {57, 83, 29}\n",
      "Le premier ensemble après suppression est: {65, 23, 42, 78}\n"
     ]
    }
   ],
   "source": [
    "def intersect(a,b):\n",
    "    inter = a.intersection(b)\n",
    "    for i in inter:\n",
    "        a.remove(i)\n",
    "    print(\"L'intersection est:\",inter)\n",
    "    print(\"Le premier ensemble après suppression est:\",a)\n",
    "\n",
    "set1 = {65, 42, 78, 83, 23, 57, 29}\n",
    "set2 = {67, 73, 43, 48, 83, 57, 29}\n",
    "intersect(set1, set2)"
   ]
  },
  {
   "cell_type": "code",
   "execution_count": null,
   "id": "7d779f64",
   "metadata": {},
   "outputs": [],
   "source": []
  }
 ],
 "metadata": {
  "kernelspec": {
   "display_name": "Python 3 (ipykernel)",
   "language": "python",
   "name": "python3"
  },
  "language_info": {
   "codemirror_mode": {
    "name": "ipython",
    "version": 3
   },
   "file_extension": ".py",
   "mimetype": "text/x-python",
   "name": "python",
   "nbconvert_exporter": "python",
   "pygments_lexer": "ipython3",
   "version": "3.9.7"
  }
 },
 "nbformat": 4,
 "nbformat_minor": 5
}
